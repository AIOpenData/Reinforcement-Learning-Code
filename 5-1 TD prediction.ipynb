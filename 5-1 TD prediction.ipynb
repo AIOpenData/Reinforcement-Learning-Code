{
 "cells": [
  {
   "cell_type": "markdown",
   "metadata": {},
   "source": [
    "### 时序差分预测 TD(0)预测"
   ]
  },
  {
   "cell_type": "code",
   "execution_count": 1,
   "metadata": {},
   "outputs": [],
   "source": [
    "import gym\n",
    "import matplotlib\n",
    "import numpy as np\n",
    "from collections import defaultdict\n",
    "from gym.envs.toy_text.cliffwalking import CliffWalkingEnv"
   ]
  },
  {
   "cell_type": "code",
   "execution_count": 2,
   "metadata": {},
   "outputs": [],
   "source": [
    "env = CliffWalkingEnv()"
   ]
  },
  {
   "cell_type": "code",
   "execution_count": 3,
   "metadata": {},
   "outputs": [],
   "source": [
    "def policy(state, nA):\n",
    "    return np.ones(nA) * 1 / 4"
   ]
  },
  {
   "cell_type": "code",
   "execution_count": 4,
   "metadata": {},
   "outputs": [],
   "source": [
    "def td_prediction(env, n, discount=1.0, epsilon=0.1, alpha=0.5):\n",
    "    V = defaultdict(float) # 初始化值：0.0\n",
    "    for i in range(n):\n",
    "        state = env.reset()\n",
    "        while(True):\n",
    "            prob = policy(state, env.action_space.n)\n",
    "            action = np.random.choice(np.arange(len(prob)), p=prob)\n",
    "            next_state, reward, done, _ = env.step(action)\n",
    "            td_error = reward + discount * V[next_state] - V[state]\n",
    "            V[state] = V[state] + alpha * td_error\n",
    "            state = next_state\n",
    "            if done:\n",
    "                break            \n",
    "    return V"
   ]
  },
  {
   "cell_type": "code",
   "execution_count": 5,
   "metadata": {
    "scrolled": true
   },
   "outputs": [
    {
     "name": "stdout",
     "output_type": "stream",
     "text": [
      "defaultdict(<class 'float'>, {36: -49087.967088934914, 24: -48999.17544442721, 25: -48942.77021206708, 13: -48832.96401186856, 12: -48959.78489109466, 0: -48593.427308997845, 1: -48700.85963793693, 14: -48770.797612896116, 2: -48480.5508483626, 15: -48584.14255438803, 27: -48968.73817298539, 26: -49034.10668798987, 16: -48706.33243983546, 3: -47900.74327907154, 4: -47455.674720725394, 28: -48952.814831745665, 29: -49103.39490122186, 30: -48493.10458006617, 17: -47863.42301899384, 31: -48362.13765188126, 18: -47871.70195584639, 19: -47054.701644371846, 7: -45322.78394858206, 8: -44102.98053546661, 9: -42100.4405613477, 21: -47127.35287969097, 22: -31234.49259185284, 34: -41591.12474690312, 35: -6142.858917104286, 33: -45450.438877383465, 32: -47697.16438223451, 20: -44508.708632301175, 5: -46917.662374235195, 6: -46616.09090426532, 10: -35083.6697115397, 11: -28830.119930876466, 23: -17253.535563505764, 47: 0.0})\n"
     ]
    }
   ],
   "source": [
    "if __name__ == \"__main__\":\n",
    "    n = 1000\n",
    "    V = td_prediction(env, n)\n",
    "    print(V)"
   ]
  },
  {
   "cell_type": "code",
   "execution_count": null,
   "metadata": {},
   "outputs": [],
   "source": []
  }
 ],
 "metadata": {
  "kernelspec": {
   "display_name": "Python 3",
   "language": "python",
   "name": "python3"
  },
  "language_info": {
   "codemirror_mode": {
    "name": "ipython",
    "version": 3
   },
   "file_extension": ".py",
   "mimetype": "text/x-python",
   "name": "python",
   "nbconvert_exporter": "python",
   "pygments_lexer": "ipython3",
   "version": "3.7.3"
  }
 },
 "nbformat": 4,
 "nbformat_minor": 2
}
