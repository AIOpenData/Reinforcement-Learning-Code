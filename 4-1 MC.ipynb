{
 "cells": [
  {
   "cell_type": "markdown",
   "metadata": {},
   "source": [
    "## 1. 采用蒙特卡洛投点法估算圆周率$\\pi$\n",
    "\n",
    "蒙特卡洛方法求解该例题的基本思想是，向包含圆形的最小正方形内大量投掷随机点，计算在圆形内的点数innerNum与正方形内总点数totalNum的比例。当投掷随机点的数量无穷大时，该比例等于圆形面积与正方形面积的比值。\n",
    "\n",
    "例如，边长为2的正方形面积为4，内含最大圆形面积为$\\pi \\times 1^2=\\pi$，则有：$\\pi = 4 \\times \\frac{innerNum}{totalNum}$"
   ]
  },
  {
   "cell_type": "code",
   "execution_count": 3,
   "metadata": {},
   "outputs": [
    {
     "name": "stdout",
     "output_type": "stream",
     "text": [
      "pi = 3.14004\n"
     ]
    }
   ],
   "source": [
    "import random\n",
    "import math\n",
    "\n",
    "totalNum = 100000\n",
    "innerNum = 0\n",
    "\n",
    "for i in range(totalNum):\n",
    "    x = -1 + 2 * random.random() # x: [-1,1)\n",
    "    y = -1 + 2 * random.random() # y: [-1,1)\n",
    "    if math.pow(x, 2) + math.pow(y, 2) < 1: # 点到圆心的距离小于半径1，则该点落在圆内\n",
    "        innerNum += 1\n",
    "pi = 4 * innerNum / totalNum       \n",
    "print(f'pi = {pi}')"
   ]
  },
  {
   "cell_type": "markdown",
   "metadata": {},
   "source": [
    "### 2. 用蒙特卡洛投点法求解$\\int_{0}^{\\pi}\\sin tdt$"
   ]
  },
  {
   "cell_type": "code",
   "execution_count": 4,
   "metadata": {},
   "outputs": [
    {
     "name": "stdout",
     "output_type": "stream",
     "text": [
      "result = 1.9961679720909544\n"
     ]
    }
   ],
   "source": [
    "import random\n",
    "import math\n",
    "\n",
    "totalNum = 100000\n",
    "innerNum = 0\n",
    "\n",
    "for i in range(totalNum):\n",
    "    x = math.pi * random.random() # x: [0,pi)\n",
    "    y = random.random()    # y: [0,1)\n",
    "    if y < math.sin(x):\n",
    "        innerNum += 1\n",
    "result = math.pi * innerNum / totalNum\n",
    "print(f'result = {result}')"
   ]
  },
  {
   "cell_type": "code",
   "execution_count": null,
   "metadata": {},
   "outputs": [],
   "source": []
  }
 ],
 "metadata": {
  "kernelspec": {
   "display_name": "Python 3",
   "language": "python",
   "name": "python3"
  },
  "language_info": {
   "codemirror_mode": {
    "name": "ipython",
    "version": 3
   },
   "file_extension": ".py",
   "mimetype": "text/x-python",
   "name": "python",
   "nbconvert_exporter": "python",
   "pygments_lexer": "ipython3",
   "version": "3.7.3"
  }
 },
 "nbformat": 4,
 "nbformat_minor": 2
}
