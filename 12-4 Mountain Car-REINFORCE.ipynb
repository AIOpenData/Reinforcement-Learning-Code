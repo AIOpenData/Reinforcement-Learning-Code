{
 "cells": [
  {
   "cell_type": "markdown",
   "metadata": {},
   "source": [
    "# REINFORCE"
   ]
  },
  {
   "cell_type": "code",
   "execution_count": 15,
   "metadata": {
    "scrolled": true
   },
   "outputs": [
    {
     "name": "stdout",
     "output_type": "stream",
     "text": [
      "episode: 0 total reward:  -5581.0 running reward: -5581\n",
      "episode: 100 total reward:  -3349.0 running reward: -3143\n",
      "episode: 200 total reward:  -3313.0 running reward: -3362\n",
      "episode: 300 total reward:  -2433.0 running reward: -2427\n",
      "episode: 400 total reward:  -758.0 running reward: -1368\n",
      "episode: 500 total reward:  -3101.0 running reward: -1269\n",
      "episode: 600 total reward:  -1022.0 running reward: -1063\n",
      "episode: 700 total reward:  -1133.0 running reward: -830\n",
      "episode: 800 total reward:  -569.0 running reward: -649\n",
      "episode: 900 total reward:  -395.0 running reward: -554\n",
      "episode: 1000 total reward:  -526.0 running reward: -622\n",
      "episode: 1100 total reward:  -506.0 running reward: -517\n",
      "episode: 1200 total reward:  -542.0 running reward: -550\n",
      "episode: 1300 total reward:  -698.0 running reward: -437\n",
      "episode: 1400 total reward:  -285.0 running reward: -351\n",
      "episode: 1500 total reward:  -317.0 running reward: -362\n",
      "episode: 1600 total reward:  -220.0 running reward: -515\n",
      "episode: 1700 total reward:  -393.0 running reward: -411\n",
      "episode: 1800 total reward:  -475.0 running reward: -444\n",
      "episode: 1900 total reward:  -375.0 running reward: -430\n",
      "episode: 2000 total reward:  -293.0 running reward: -366\n",
      "episode: 2100 total reward:  -820.0 running reward: -442\n",
      "episode: 2200 total reward:  -293.0 running reward: -304\n",
      "episode: 2300 total reward:  -362.0 running reward: -476\n",
      "episode: 2400 total reward:  -316.0 running reward: -276\n",
      "episode: 2500 total reward:  -308.0 running reward: -282\n",
      "episode: 2600 total reward:  -263.0 running reward: -281\n",
      "episode: 2700 total reward:  -303.0 running reward: -266\n",
      "episode: 2800 total reward:  -271.0 running reward: -249\n",
      "episode: 2900 total reward:  -229.0 running reward: -254\n",
      "episode: 3000 total reward:  -246.0 running reward: -249\n",
      "episode: 3100 total reward:  -214.0 running reward: -245\n",
      "episode: 3200 total reward:  -183.0 running reward: -226\n",
      "episode: 3300 total reward:  -239.0 running reward: -213\n",
      "episode: 3400 total reward:  -168.0 running reward: -217\n",
      "episode: 3500 total reward:  -178.0 running reward: -212\n",
      "episode: 3600 total reward:  -269.0 running reward: -244\n",
      "episode: 3700 total reward:  -202.0 running reward: -226\n",
      "episode: 3800 total reward:  -232.0 running reward: -229\n",
      "episode: 3900 total reward:  -232.0 running reward: -225\n",
      "episode: 4000 total reward:  -239.0 running reward: -232\n",
      "episode: 4100 total reward:  -197.0 running reward: -219\n",
      "episode: 4200 total reward:  -277.0 running reward: -268\n",
      "episode: 4300 total reward:  -157.0 running reward: -190\n",
      "episode: 4400 total reward:  -262.0 running reward: -202\n",
      "episode: 4500 total reward:  -210.0 running reward: -183\n",
      "episode: 4600 total reward:  -258.0 running reward: -193\n",
      "episode: 4700 total reward:  -237.0 running reward: -209\n",
      "episode: 4800 total reward:  -123.0 running reward: -176\n",
      "episode: 4900 total reward:  -166.0 running reward: -183\n"
     ]
    }
   ],
   "source": [
    "\"\"\" Thins REINFORCE algorithm is Implemented by Yinyu Jin \"\"\"\n",
    "import torch\n",
    "import gym\n",
    "import numpy as np\n",
    "import torch.nn as nn\n",
    "import torch.optim as optim\n",
    "import torch.nn.functional as F\n",
    "from torch.distributions import Categorical\n",
    "import matplotlib.pyplot as plt\n",
    "%matplotlib inline\n",
    "\n",
    "# avoid the gym warning message\n",
    "gym.logger.set_level(40)\n",
    "\n",
    "env = gym.make('MountainCar-v0')\n",
    "env = env.unwrapped\n",
    "env.seed(1)\n",
    "\n",
    "np.random.seed(1)\n",
    "torch.manual_seed(1)\n",
    "\n",
    "state_space = env.observation_space.shape[0]\n",
    "action_space = env.action_space.n\n",
    "eps = np.finfo(np.float32).eps.item()\n",
    "\n",
    "\n",
    "class PolicyNetwork(nn.Module):\n",
    "    def __init__(self, num_inputs, num_actions, hidden_size =24, learning_rate = 0.01): \n",
    "        super (PolicyNetwork, self).__init__()\n",
    "        \n",
    "        self.fc1 = nn.Linear(num_inputs, hidden_size)\n",
    "        self.fc2 = nn.Linear(hidden_size, num_actions)\n",
    "        self.optimizer = optim.Adam(self.parameters(), lr=learning_rate)\n",
    "        \n",
    "    def forward(self, state):\n",
    "        x = torch.relu(self.fc1(state))\n",
    "        x = F.softmax(self.fc2(x), dim=1)\n",
    "        return x\n",
    "        \n",
    "    def choose_action(self, state):\n",
    "        state = torch.from_numpy(state).float().unsqueeze(0)\n",
    "        act_probs = self.forward(state)\n",
    "        c = Categorical(act_probs)\n",
    "        action = c.sample()\n",
    "        return action.item(), c.log_prob(action)\n",
    "    \n",
    "    def update_policy(self, returns, log_probs): \n",
    "        policy_loss = []\n",
    "        for log_prob, Gt in zip (log_probs, returns):\n",
    "            policy_loss.append (-log_prob * Gt)\n",
    "            \n",
    "        self.optimizer.zero_grad()\n",
    "        policy_loss = torch.stack(policy_loss).sum()\n",
    "        policy_loss.backward()\n",
    "        self.optimizer.step()\n",
    "        \n",
    "    def discounted_norm_rewards (self, rewards):\n",
    "        returns = np.zeros_like(rewards)\n",
    "        running_add = 0\n",
    "        for t in reversed (range(len(rewards))):\n",
    "            running_add = running_add * GAMMA + rewards[t]\n",
    "            returns[t] = running_add\n",
    "            \n",
    "        #normalized discounted rewards\n",
    "        returns = (returns - np.mean(returns)) / (np.std(returns)+eps)\n",
    "        return returns\n",
    "\n",
    "\n",
    "policy_net = PolicyNetwork(state_space,action_space, hidden_layer)\n",
    "\n",
    "\n",
    "def main (episodes = 5000, GAMMA = 0.99):\n",
    "    all_rewards = []\n",
    "    running_rewards = []\n",
    "    for episode in range(episodes): \n",
    "        state = env.reset()\n",
    "        rewards = []\n",
    "        log_probs = []\n",
    "\n",
    "        while True:\n",
    "            action, log_prob = policy_net.choose_action(state)\n",
    "            new_state, reward, done, _ = env.step(action)\n",
    "            rewards.append(reward)\n",
    "            log_probs.append(log_prob)\n",
    "\n",
    "            if done: \n",
    "                vt = policy_net.discounted_norm_rewards(rewards)\n",
    "                policy_net.update_policy(vt, log_probs)\n",
    "                all_rewards.append(np.sum(rewards))\n",
    "                running_rewards.append(np.mean(all_rewards[-30:]))\n",
    "                if episode % 100 ==0:\n",
    "                    print('episode:', episode, 'total reward: ', all_rewards[-1], 'running reward:', int(running_rewards[-1]))\n",
    "                break\n",
    "            state = new_state\n",
    "                \n",
    "    return all_rewards, running_rewards, vt\n",
    "\n",
    "all_rewards, running_rewards, vt = main()"
   ]
  },
  {
   "cell_type": "code",
   "execution_count": 16,
   "metadata": {},
   "outputs": [
    {
     "data": {
      "image/png": "[encoded data removed]",
      "text/plain": [
       "<Figure size 432x288 with 1 Axes>"
      ]
     },
     "metadata": {
      "needs_background": "light"
     },
     "output_type": "display_data"
    }
   ],
   "source": [
    "plt.plot(all_rewards)       \n",
    "plt.plot(running_rewards)\n",
    "plt.title('MountainCar-v0 by REINFORCE')\n",
    "plt.xlabel('Episode')\n",
    "plt.ylabel('Reward')\n",
    "plt.show()"
   ]
  },
  {
   "cell_type": "code",
   "execution_count": 17,
   "metadata": {},
   "outputs": [
    {
     "data": {
      "image/png": "[encoded data removed]",
      "text/plain": [
       "<Figure size 432x288 with 1 Axes>"
      ]
     },
     "metadata": {
      "needs_background": "light"
     },
     "output_type": "display_data"
    }
   ],
   "source": [
    "plt.plot(vt)\n",
    "plt.title('MountainCar-v0 by REINFORCE')\n",
    "plt.xlabel('Episode steps')\n",
    "plt.ylabel('vt')\n",
    "plt.show()"
   ]
  },
  {
   "cell_type": "code",
   "execution_count": null,
   "metadata": {},
   "outputs": [],
   "source": []
  }
 ],
 "metadata": {
  "kernelspec": {
   "display_name": "Python 3",
   "language": "python",
   "name": "python3"
  },
  "language_info": {
   "codemirror_mode": {
    "name": "ipython",
    "version": 3
   },
   "file_extension": ".py",
   "mimetype": "text/x-python",
   "name": "python",
   "nbconvert_exporter": "python",
   "pygments_lexer": "ipython3",
   "version": "3.7.4"
  }
 },
 "nbformat": 4,
 "nbformat_minor": 2
}
