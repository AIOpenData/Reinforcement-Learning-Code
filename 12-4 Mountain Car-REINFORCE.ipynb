{
 "cells": [
  {
   "cell_type": "markdown",
   "metadata": {},
   "source": [
    "# REINFORCE"
   ]
  },
  {
   "cell_type": "code",
   "execution_count": 4,
   "metadata": {
    "scrolled": true
   },
   "outputs": [
    {
     "name": "stdout",
     "output_type": "stream",
     "text": [
      "episode: 0 total reward:  -17695.0 running reward: -17695\n",
      "episode: 100 total reward:  -4781.0 running reward: -11849\n",
      "episode: 200 total reward:  -976.0 running reward: -2335\n",
      "episode: 300 total reward:  -1474.0 running reward: -1226\n",
      "episode: 400 total reward:  -2211.0 running reward: -1409\n",
      "episode: 500 total reward:  -1603.0 running reward: -2610\n",
      "episode: 600 total reward:  -762.0 running reward: -598\n",
      "episode: 700 total reward:  -453.0 running reward: -469\n",
      "episode: 800 total reward:  -373.0 running reward: -496\n",
      "episode: 900 total reward:  -581.0 running reward: -406\n",
      "episode: 1000 total reward:  -431.0 running reward: -394\n",
      "episode: 1100 total reward:  -237.0 running reward: -438\n",
      "episode: 1200 total reward:  -357.0 running reward: -305\n",
      "episode: 1300 total reward:  -363.0 running reward: -394\n",
      "episode: 1400 total reward:  -231.0 running reward: -273\n",
      "episode: 1500 total reward:  -136.0 running reward: -250\n",
      "episode: 1600 total reward:  -140.0 running reward: -235\n",
      "episode: 1700 total reward:  -196.0 running reward: -343\n",
      "episode: 1800 total reward:  -168.0 running reward: -209\n",
      "episode: 1900 total reward:  -249.0 running reward: -227\n",
      "episode: 2000 total reward:  -203.0 running reward: -195\n",
      "episode: 2100 total reward:  -210.0 running reward: -221\n",
      "episode: 2200 total reward:  -347.0 running reward: -204\n",
      "episode: 2300 total reward:  -168.0 running reward: -216\n",
      "episode: 2400 total reward:  -162.0 running reward: -232\n",
      "episode: 2500 total reward:  -178.0 running reward: -186\n",
      "episode: 2600 total reward:  -193.0 running reward: -196\n",
      "episode: 2700 total reward:  -124.0 running reward: -167\n",
      "episode: 2800 total reward:  -167.0 running reward: -172\n",
      "episode: 2900 total reward:  -266.0 running reward: -198\n",
      "episode: 3000 total reward:  -169.0 running reward: -240\n",
      "episode: 3100 total reward:  -260.0 running reward: -212\n",
      "episode: 3200 total reward:  -176.0 running reward: -166\n",
      "episode: 3300 total reward:  -180.0 running reward: -171\n",
      "episode: 3400 total reward:  -187.0 running reward: -236\n",
      "episode: 3500 total reward:  -88.0 running reward: -163\n",
      "episode: 3600 total reward:  -198.0 running reward: -184\n",
      "episode: 3700 total reward:  -130.0 running reward: -148\n",
      "episode: 3800 total reward:  -122.0 running reward: -182\n",
      "episode: 3900 total reward:  -123.0 running reward: -164\n",
      "episode: 4000 total reward:  -192.0 running reward: -174\n",
      "episode: 4100 total reward:  -124.0 running reward: -138\n",
      "episode: 4200 total reward:  -146.0 running reward: -149\n",
      "episode: 4300 total reward:  -143.0 running reward: -160\n",
      "episode: 4400 total reward:  -186.0 running reward: -166\n",
      "episode: 4500 total reward:  -147.0 running reward: -156\n",
      "episode: 4600 total reward:  -117.0 running reward: -143\n",
      "episode: 4700 total reward:  -150.0 running reward: -139\n",
      "episode: 4800 total reward:  -798.0 running reward: -330\n",
      "episode: 4900 total reward:  -198.0 running reward: -167\n"
     ]
    }
   ],
   "source": [
    "\"\"\" This REINFORCE algorithm is Implemented by Yinyu Jin \"\"\"\n",
    "import torch\n",
    "import gym\n",
    "import numpy as np\n",
    "import torch.nn as nn\n",
    "import torch.optim as optim\n",
    "import torch.nn.functional as F\n",
    "from torch.distributions import Categorical\n",
    "import matplotlib.pyplot as plt\n",
    "%matplotlib inline\n",
    "\n",
    "# avoid the gym warning message\n",
    "gym.logger.set_level(40)\n",
    "\n",
    "env = gym.make('MountainCar-v0')\n",
    "env = env.unwrapped\n",
    "env.seed(1)\n",
    "\n",
    "np.random.seed(1)\n",
    "torch.manual_seed(1)\n",
    "\n",
    "state_space = env.observation_space.shape[0]\n",
    "action_space = env.action_space.n\n",
    "eps = np.finfo(np.float32).eps.item()\n",
    "\n",
    "\n",
    "class PolicyNetwork(nn.Module):\n",
    "    def __init__(self, num_inputs, num_actions, hidden_size =24, learning_rate = 0.01): \n",
    "        super (PolicyNetwork, self).__init__()\n",
    "        \n",
    "        self.fc1 = nn.Linear(num_inputs, hidden_size)\n",
    "        self.fc2 = nn.Linear(hidden_size, num_actions)\n",
    "        self.optimizer = optim.Adam(self.parameters(), lr=learning_rate)\n",
    "        \n",
    "    def forward(self, state):\n",
    "        x = torch.relu(self.fc1(state))\n",
    "        x = F.softmax(self.fc2(x), dim=1)\n",
    "        return x\n",
    "        \n",
    "    def choose_action(self, state):\n",
    "        state = torch.from_numpy(state).float().unsqueeze(0)\n",
    "        act_probs = self.forward(state)\n",
    "        c = Categorical(act_probs)\n",
    "        action = c.sample()\n",
    "        return action.item(), c.log_prob(action)\n",
    "    \n",
    "    def update_policy(self, vts, log_probs): \n",
    "        policy_loss = []\n",
    "        for log_prob, vt in zip (log_probs, vts):\n",
    "            policy_loss.append (-log_prob * vt)\n",
    "            \n",
    "        self.optimizer.zero_grad()\n",
    "        policy_loss = torch.stack(policy_loss).sum()\n",
    "        policy_loss.backward()\n",
    "        self.optimizer.step()\n",
    "        \n",
    "    def discounted_norm_rewards (self, rewards, GAMMA):\n",
    "        vt = np.zeros_like(rewards)\n",
    "        running_add = 0\n",
    "        for t in reversed (range(len(rewards))):\n",
    "            running_add = running_add * GAMMA + rewards[t]\n",
    "            vt[t] = running_add\n",
    "            \n",
    "        #normalized discounted rewards\n",
    "        vt = (vt - np.mean(vt)) / (np.std(vt)+eps)\n",
    "        return vt\n",
    "\n",
    "\n",
    "policy_net = PolicyNetwork(state_space,action_space)\n",
    "\n",
    "\n",
    "def main (episodes = 5000, GAMMA = 0.99):\n",
    "    all_rewards = []\n",
    "    running_rewards = []\n",
    "    for episode in range(episodes): \n",
    "        state = env.reset()\n",
    "        rewards = []\n",
    "        log_probs = []\n",
    "\n",
    "        while True:\n",
    "            action, log_prob = policy_net.choose_action(state)\n",
    "            new_state, reward, done, _ = env.step(action)\n",
    "            rewards.append(reward)\n",
    "            log_probs.append(log_prob)\n",
    "\n",
    "            if done: \n",
    "                vt = policy_net.discounted_norm_rewards(rewards, GAMMA)\n",
    "                policy_net.update_policy(vt, log_probs)\n",
    "                all_rewards.append(np.sum(rewards))\n",
    "                running_rewards.append(np.mean(all_rewards[-30:]))\n",
    "                if episode % 100 ==0:\n",
    "                    print('episode:', episode, 'total reward: ', all_rewards[-1], 'running reward:', int(running_rewards[-1]))\n",
    "                break\n",
    "            state = new_state\n",
    "                \n",
    "    return all_rewards, running_rewards, vt\n",
    "\n",
    "all_rewards, running_rewards, vt = main()"
   ]
  },
  {
   "cell_type": "markdown",
   "metadata": {},
   "source": [
    "### Plot the total rewards for all episodes"
   ]
  },
  {
   "cell_type": "code",
   "execution_count": 5,
   "metadata": {},
   "outputs": [
    {
     "data": {
      "image/png": "[encoded data removed]",
      "text/plain": [
       "<Figure size 432x288 with 1 Axes>"
      ]
     },
     "metadata": {
      "needs_background": "light"
     },
     "output_type": "display_data"
    }
   ],
   "source": [
    "plt.plot(all_rewards)       \n",
    "plt.plot(running_rewards)\n",
    "plt.title('MountainCar-v0 by REINFORCE')\n",
    "plt.xlabel('Episode')\n",
    "plt.ylabel('Reward')\n",
    "plt.savefig(f\"15.9.jpg\", dpi=600)\n",
    "plt.show()"
   ]
  },
  {
   "cell_type": "markdown",
   "metadata": {},
   "source": [
    "### Plot the $v_t$ in the last episode. \n",
    "\n",
    "$v_t$ here refers to the __normalised discounted returns__ received by the agent after taking action $a$ in state $s$ in an episode, which is used to evaluate the intensity of inducing the gradient. \n",
    "\n",
    "We can see that the values at the last steps are much higher than it was at the beginning, which means that it affects the $policy\\_loss.append (-log\\_prob * vt)$ a lot at the last steps. This makes sense that we should emphasize the steps that the car drives up to the mountain, since we always get the -1 reward except for the car reaches the top. "
   ]
  },
  {
   "cell_type": "code",
   "execution_count": 22,
   "metadata": {},
   "outputs": [
    {
     "data": {
      "image/png": "[encoded data removed]",
      "text/plain": [
       "<Figure size 432x288 with 1 Axes>"
      ]
     },
     "metadata": {
      "needs_background": "light"
     },
     "output_type": "display_data"
    }
   ],
   "source": [
    "plt.plot(vt)\n",
    "plt.title('MountainCar-v0 by REINFORCE')\n",
    "plt.xlabel('Episode steps')\n",
    "plt.ylabel('vt')\n",
    "plt.savefig(f\"15.10.jpg\", dpi=600)\n",
    "plt.show()"
   ]
  },
  {
   "cell_type": "markdown",
   "metadata": {},
   "source": [
    "### Run your well-trained REINFORCE agent!"
   ]
  },
  {
   "cell_type": "code",
   "execution_count": 23,
   "metadata": {},
   "outputs": [],
   "source": [
    "env = gym.make('MountainCar-v0')\n",
    "\n",
    "state = env.reset()\n",
    "for t in range(10000):\n",
    "    action, _ = policy_net.choose_action(state)\n",
    "    env.render()\n",
    "    state, reward, done, _ = env.step(action)\n",
    "    if done:\n",
    "        break \n",
    "\n",
    "env.close()"
   ]
  },
  {
   "cell_type": "code",
   "execution_count": null,
   "metadata": {},
   "outputs": [],
   "source": []
  }
 ],
 "metadata": {
  "kernelspec": {
   "display_name": "Python 3",
   "language": "python",
   "name": "python3"
  },
  "language_info": {
   "codemirror_mode": {
    "name": "ipython",
    "version": 3
   },
   "file_extension": ".py",
   "mimetype": "text/x-python",
   "name": "python",
   "nbconvert_exporter": "python",
   "pygments_lexer": "ipython3",
   "version": "3.7.4"
  }
 },
 "nbformat": 4,
 "nbformat_minor": 2
}
