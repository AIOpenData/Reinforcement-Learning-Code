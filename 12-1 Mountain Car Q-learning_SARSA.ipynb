{
 "cells": [
  {
   "cell_type": "code",
   "execution_count": 1,
   "metadata": {},
   "outputs": [
    {
     "data": {
      "text/plain": [
       "array([-0.56192849,  0.        ])"
      ]
     },
     "execution_count": 1,
     "metadata": {},
     "output_type": "execute_result"
    }
   ],
   "source": [
    "# gym enviroment setup\n",
    "import gym\n",
    "import numpy as np\n",
    "import matplotlib.pyplot as plt\n",
    "\n",
    "env = gym.make(\"MountainCar-v0\")\n",
    "env.reset()"
   ]
  },
  {
   "cell_type": "code",
   "execution_count": 2,
   "metadata": {},
   "outputs": [
    {
     "data": {
      "text/plain": [
       "array([0.6 , 0.07], dtype=float32)"
      ]
     },
     "execution_count": 2,
     "metadata": {},
     "output_type": "execute_result"
    }
   ],
   "source": [
    "env.observation_space.high"
   ]
  },
  {
   "cell_type": "code",
   "execution_count": 3,
   "metadata": {},
   "outputs": [
    {
     "data": {
      "text/plain": [
       "array([-1.2 , -0.07], dtype=float32)"
      ]
     },
     "execution_count": 3,
     "metadata": {},
     "output_type": "execute_result"
    }
   ],
   "source": [
    "env.observation_space.low"
   ]
  },
  {
   "cell_type": "code",
   "execution_count": 4,
   "metadata": {},
   "outputs": [
    {
     "name": "stdout",
     "output_type": "stream",
     "text": [
      "[20, 20]\n"
     ]
    }
   ],
   "source": [
    "# Q Table setup\n",
    "\n",
    "LEARNING_RATE = 0.5\n",
    "DISCOUNT = 0.95\n",
    "EPISODES = 1000\n",
    "SHOW_EVERY = 200\n",
    "Q_TABLE_LEN = 20\n",
    "\n",
    "DISCRETE_OS_SIZE = [Q_TABLE_LEN] * len(env.observation_space.high) \n",
    "# self.high = np.array([self.max_position, self.max_speed])\n",
    "# [20] * 2 = [20, 20]\n",
    "discrete_os_win_size = (env.observation_space.high - env.observation_space.low) / DISCRETE_OS_SIZE\n",
    "# discrete_os_win_size = array([0.09 , 0.007])\n",
    "print(DISCRETE_OS_SIZE)"
   ]
  },
  {
   "cell_type": "code",
   "execution_count": 5,
   "metadata": {},
   "outputs": [],
   "source": [
    "# decay epsilon\n",
    "\n",
    "epsilon = 1\n",
    "START_EPSILON_DECAYING = 1\n",
    "END_EPSILON_DECAYING = EPISODES // 2 # //表示整数除法\n",
    "epsilon_decay_value = epsilon / (END_EPSILON_DECAYING - START_EPSILON_DECAYING)"
   ]
  },
  {
   "cell_type": "code",
   "execution_count": 6,
   "metadata": {},
   "outputs": [],
   "source": [
    "def get_discrete_state(state):\n",
    "    discrete_state = (state - env.observation_space.low) // discrete_os_win_size\n",
    "    return tuple(discrete_state.astype(int))  # (18, 12)"
   ]
  },
  {
   "cell_type": "code",
   "execution_count": 7,
   "metadata": {},
   "outputs": [],
   "source": [
    "def take_epsilon_greedy_action(q_table, state, epsilon):\n",
    "    if np.random.random() < epsilon:\n",
    "        action = np.random.randint(0, env.action_space.n)\n",
    "    else:\n",
    "        action = np.argmax(q_table[get_discrete_state(state)])\n",
    "    return action"
   ]
  },
  {
   "cell_type": "code",
   "execution_count": 8,
   "metadata": {},
   "outputs": [],
   "source": [
    "def q_learning(env, episodes, discount, epsilon, alpha):\n",
    "    q_table = np.zeros((DISCRETE_OS_SIZE + [env.action_space.n]))\n",
    "    # q_table.shape = (20, 20, 3)\n",
    "    for episode in range(episodes):\n",
    "        state = env.reset()\n",
    "        while(True):\n",
    "            action = take_epsilon_greedy_action(q_table, state, epsilon)\n",
    "            next_state, reward, done, _ = env.step(action)\n",
    "            best_next_action = np.argmax(q_table[get_discrete_state(next_state)])\n",
    "\n",
    "            td_target = reward + discount * q_table[get_discrete_state(next_state)][best_next_action]\n",
    "            q_table[get_discrete_state(state)][action] += alpha * (td_target - q_table[get_discrete_state(state)][action])\n",
    "            if next_state[0] >= 0.5:\n",
    "                q_table[get_discrete_state(state)][action] = 0\n",
    "                break\n",
    "            state = next_state\n",
    "            if START_EPSILON_DECAYING <= episode <= END_EPSILON_DECAYING:\n",
    "                epsilon -= epsilon_decay_value            \n",
    "\n",
    "    return q_table"
   ]
  },
  {
   "cell_type": "code",
   "execution_count": 9,
   "metadata": {},
   "outputs": [],
   "source": [
    "def sarsa(env, episodes, discount, epsilon, alpha):\n",
    "    q_table = np.zeros((DISCRETE_OS_SIZE + [env.action_space.n]))\n",
    "    # q_table.shape = (20, 20, 3)\n",
    "    for episode in range(episodes):\n",
    "        state = env.reset()\n",
    "        action = take_epsilon_greedy_action(q_table, state, epsilon)\n",
    "        while(True):\n",
    "            next_state, reward, done, _ = env.step(action)\n",
    "            next_action = take_epsilon_greedy_action(q_table, next_state, epsilon)\n",
    "\n",
    "            td_target = reward + discount * q_table[get_discrete_state(next_state)][next_action]\n",
    "            q_table[get_discrete_state(state)][action] += alpha * (td_target - q_table[get_discrete_state(state)][action])\n",
    "            if next_state[0] >= 0.5:\n",
    "                q_table[get_discrete_state(state)][action] = 0\n",
    "                break\n",
    "            state = next_state\n",
    "            action = next_action\n",
    "            if START_EPSILON_DECAYING <= episode <= END_EPSILON_DECAYING:\n",
    "                epsilon -= epsilon_decay_value\n",
    "\n",
    "    return q_table"
   ]
  },
  {
   "cell_type": "code",
   "execution_count": 10,
   "metadata": {},
   "outputs": [],
   "source": [
    "def montain_car_render(q_table):\n",
    "    state = env.reset()\n",
    "    while True:\n",
    "        action = np.argmax(q_table[get_discrete_state(state)])\n",
    "        next_state, _, done, _ = env.step(action)\n",
    "        env.render()\n",
    "        if done:\n",
    "            break\n",
    "        state = next_state"
   ]
  },
  {
   "cell_type": "markdown",
   "metadata": {},
   "source": [
    "### Run Q-Learning"
   ]
  },
  {
   "cell_type": "code",
   "execution_count": 11,
   "metadata": {},
   "outputs": [],
   "source": [
    "q_table_QLearning = q_learning(env, EPISODES, DISCOUNT, epsilon, LEARNING_RATE)\n",
    "montain_car_render(q_table_QLearning)\n",
    "env.close()"
   ]
  },
  {
   "cell_type": "markdown",
   "metadata": {},
   "source": [
    "### Run SARSA"
   ]
  },
  {
   "cell_type": "code",
   "execution_count": 11,
   "metadata": {},
   "outputs": [],
   "source": [
    "q_table_sarsa = sarsa(env, EPISODES, DISCOUNT, epsilon, LEARNING_RATE)\n",
    "montain_car_render(q_table_sarsa)\n",
    "env.close()"
   ]
  },
  {
   "cell_type": "code",
   "execution_count": null,
   "metadata": {},
   "outputs": [],
   "source": []
  }
 ],
 "metadata": {
  "kernelspec": {
   "display_name": "Python 3",
   "language": "python",
   "name": "python3"
  },
  "language_info": {
   "codemirror_mode": {
    "name": "ipython",
    "version": 3
   },
   "file_extension": ".py",
   "mimetype": "text/x-python",
   "name": "python",
   "nbconvert_exporter": "python",
   "pygments_lexer": "ipython3",
   "version": "3.7.4"
  }
 },
 "nbformat": 4,
 "nbformat_minor": 2
}
