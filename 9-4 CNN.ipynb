{
 "cells": [
  {
   "cell_type": "markdown",
   "metadata": {},
   "source": [
    "### 卷积"
   ]
  },
  {
   "cell_type": "code",
   "execution_count": 1,
   "metadata": {},
   "outputs": [],
   "source": [
    "import numpy as np\n",
    "\n",
    "inputD = np.array(\n",
    "         [[245, 253, 24, 255, 255, 255],\n",
    "         [255, 255, 17, 241, 245, 247],\n",
    "         [249, 255, 25, 247, 255, 255],\n",
    "         [255, 255, 55, 238, 171, 184],\n",
    "         [254, 248, 31, 172, 87, 254],\n",
    "         [255, 249, 15, 231, 87, 187]])\n",
    "\n",
    "inputD2 = np.array([[0, 0, 0, 0, 0, 0, 0, 0],\n",
    "         [0, 245, 253, 24, 255, 255, 255, 0],\n",
    "         [0, 255, 255, 17, 241, 245, 247, 0],\n",
    "         [0, 249, 255, 25, 247, 255, 255, 0],\n",
    "         [0, 255, 255, 55, 238, 171, 184, 0],\n",
    "         [0, 254, 248, 31, 172, 87, 254, 0],\n",
    "         [0, 255, 249, 15, 231, 87, 187, 0],\n",
    "         [0, 0, 0, 0, 0, 0, 0, 0]])\n",
    "\n",
    "weight = np.array(\n",
    "          [[1, 0, -1],\n",
    "          [1, 0, -1],\n",
    "          [1, 0, -1]])\n",
    "\n",
    "weight2 = np.array(\n",
    "          [[1, 1, 1],\n",
    "          [0, 0, 0],\n",
    "          [-1, -1, -1]])"
   ]
  },
  {
   "cell_type": "code",
   "execution_count": 2,
   "metadata": {},
   "outputs": [],
   "source": [
    "def conv(f, kernel):\n",
    "    [h, w] = f.shape # h=6, w=6\n",
    "    [k, _] = kernel.shape # k=3\n",
    "    convR = np.zeros([h-k+1, w-k+1])\n",
    "    for i in range(h-k+1):\n",
    "        for j in range(w-k+1):\n",
    "            inputDi = f[i:i+k,j:j+k]\n",
    "            convR[i][j] = min(abs(np.sum(kernel*inputDi)),255)\n",
    "    return convR"
   ]
  },
  {
   "cell_type": "code",
   "execution_count": 3,
   "metadata": {},
   "outputs": [],
   "source": [
    "def conv2(f, kernel):\n",
    "    [h, w] = f.shape # h=6, w=6\n",
    "    [k, _] = kernel.shape # k=3\n",
    "    convR = np.zeros([h-k+1, w-k+1])\n",
    "    for i in range(h-k+1):\n",
    "        for j in range(w-k+1):\n",
    "            inputDi = f[i:i+k,j:j+k]\n",
    "            convR[i][j] = np.sum(kernel*inputDi)\n",
    "    return convR"
   ]
  },
  {
   "cell_type": "code",
   "execution_count": 4,
   "metadata": {},
   "outputs": [
    {
     "name": "stdout",
     "output_type": "stream",
     "text": [
      "[[255.  20. 255.  14.]\n",
      " [255.  39. 255.  40.]\n",
      " [255. 101. 255.  36.]\n",
      " [255. 111. 244.  16.]]\n",
      "[[  7.   5.   7.   8.]\n",
      " [ 38.  35.  39. 140.]\n",
      " [  4.  76. 237. 244.]\n",
      " [ 46.  53. 131.  88.]]\n"
     ]
    }
   ],
   "source": [
    "if __name__ == '__main__':\n",
    "    result = conv(inputD, weight)\n",
    "    result2 = conv(inputD, weight2)\n",
    "    print(result)\n",
    "    print(result2)"
   ]
  },
  {
   "cell_type": "code",
   "execution_count": 5,
   "metadata": {},
   "outputs": [
    {
     "name": "stdout",
     "output_type": "stream",
     "text": [
      "[[ 683.   20. -689.  -14.]\n",
      " [ 662.   39. -574.   40.]\n",
      " [ 647.  101. -402.  -36.]\n",
      " [ 663.  111. -244.   16.]]\n",
      "[[ -7.   5.   7.   8.]\n",
      " [-38. -35.  39. 140.]\n",
      " [ -4.  76. 237. 244.]\n",
      " [ 46.  53. 131.  88.]]\n"
     ]
    }
   ],
   "source": [
    "result3 = conv2(inputD, weight)\n",
    "result4 = conv2(inputD, weight2)\n",
    "print(result3)\n",
    "print(result4)"
   ]
  },
  {
   "cell_type": "code",
   "execution_count": 6,
   "metadata": {},
   "outputs": [
    {
     "name": "stdout",
     "output_type": "stream",
     "text": [
      "[[255. 255.  12. 255.   6. 255.]\n",
      " [255. 255.  20. 255.  14. 255.]\n",
      " [255. 255.  39. 255.  40. 255.]\n",
      " [255. 255. 101. 255.  36. 255.]\n",
      " [255. 255. 111. 244.  16. 255.]\n",
      " [255. 255.  94. 128.  38. 174.]]\n",
      "[[255. 255. 255. 255. 255. 255.]\n",
      " [  6.   7.   5.   7.   8.   0.]\n",
      " [  0.  38.  35.  39. 140. 137.]\n",
      " [  2.   4.  76. 237. 244. 169.]\n",
      " [  6.  46.  53. 131.  88.  81.]\n",
      " [255. 255. 255. 255. 255. 255.]]\n"
     ]
    }
   ],
   "source": [
    "result5 = conv(inputD2, weight)\n",
    "result6 = conv(inputD2, weight2)\n",
    "print(result5)\n",
    "print(result6)"
   ]
  },
  {
   "cell_type": "code",
   "execution_count": 1,
   "metadata": {},
   "outputs": [
    {
     "name": "stdout",
     "output_type": "stream",
     "text": [
      "[[ 86]\n",
      " [ 18]\n",
      " [  7]\n",
      " ...\n",
      " [159]\n",
      " [ 99]\n",
      " [ 63]]\n"
     ]
    }
   ],
   "source": [
    "import numpy as np\n",
    "import matplotlib.pyplot as plt\n",
    "from PIL import Image\n",
    "\n",
    "# we want to set the figure size to 128*128\n",
    "num_px = 128\n",
    "image = Image.open('./fig/cat.jpg').resize(size=(num_px,num_px)) # change this to the name of your image file \n",
    "image1 = np.array(image).reshape((1, num_px*num_px*3)).T  # (49152, 1)\n",
    "\n",
    "print(image1)\n",
    "image.show()"
   ]
  },
  {
   "cell_type": "code",
   "execution_count": null,
   "metadata": {},
   "outputs": [],
   "source": []
  }
 ],
 "metadata": {
  "kernelspec": {
   "display_name": "Python 3",
   "language": "python",
   "name": "python3"
  },
  "language_info": {
   "codemirror_mode": {
    "name": "ipython",
    "version": 3
   },
   "file_extension": ".py",
   "mimetype": "text/x-python",
   "name": "python",
   "nbconvert_exporter": "python",
   "pygments_lexer": "ipython3",
   "version": "3.7.3"
  }
 },
 "nbformat": 4,
 "nbformat_minor": 2
}
