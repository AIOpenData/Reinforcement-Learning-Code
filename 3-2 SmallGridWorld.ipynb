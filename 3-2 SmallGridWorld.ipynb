{
 "cells": [
  {
   "cell_type": "markdown",
   "metadata": {},
   "source": [
    "## 利用动态规划解决网络世界 （Grid World）问题\n",
    "\n",
    "例子中的网络世界总共有16个状态，其中状态0与状态15为终止状态，状态空间为$S = \\{0,1,2,..., 14,15\\}$；处于终止状态的奖励为$R=0$，处于其他状态的奖励为$R=-1$；在每个状态下，参与者有四个可能的行动，其行动空间为$A = \\{e,s,w,n\\}$。若采取均匀策略$\\pi$，即，$\\pi(e|.) = 1/4,\\pi(s|.) = 1/4, \\pi(w|.) = 1/4, \\pi(n|.) = 1/4$，且假设折现因子$\\gamma = 1$, 试基于动态规划的思想设计迭代算法，评估策略$\\pi$，计算策略$\\pi$下的状态值函数$v_{\\pi}(s)$。"
   ]
  },
  {
   "cell_type": "code",
   "execution_count": 2,
   "metadata": {},
   "outputs": [
    {
     "name": "stdout",
     "output_type": "stream",
     "text": [
      "In-place: 142 iterations\n",
      "Synchronous: 218 iterations\n"
     ]
    },
    {
     "data": {
      "image/png": "[encoded data removed]",
      "text/plain": [
       "<Figure size 432x288 with 1 Axes>"
      ]
     },
     "metadata": {
      "needs_background": "light"
     },
     "output_type": "display_data"
    }
   ],
   "source": [
    "import numpy as np\n",
    "import matplotlib\n",
    "import matplotlib.pyplot as plt\n",
    "from matplotlib.table import Table\n",
    "\n",
    "WORLD_SIZE = 4\n",
    "# left, up, right, down\n",
    "ACTIONS = [np.array([0, -1]),\n",
    "           np.array([-1, 0]),\n",
    "           np.array([0, 1]),\n",
    "           np.array([1, 0])]\n",
    "ACTION_PROB = 0.25\n",
    "\n",
    "def is_terminal(state):\n",
    "    x, y = state\n",
    "    return (x == 0 and y == 0) or (x == WORLD_SIZE - 1 and y == WORLD_SIZE - 1)\n",
    "\n",
    "def step(state, action):\n",
    "    state = np.array(state)\n",
    "    next_state = (state + action).tolist()\n",
    "    x, y = next_state\n",
    "\n",
    "    if x < 0 or x >= WORLD_SIZE or y < 0 or y >= WORLD_SIZE:\n",
    "        next_state = state.tolist()\n",
    "\n",
    "    reward = -1\n",
    "    return next_state, reward\n",
    "\n",
    "def draw_image(image):\n",
    "    fig, ax = plt.subplots()\n",
    "    ax.set_axis_off()\n",
    "    tb = Table(ax, bbox=[0, 0, 1, 1])\n",
    "\n",
    "    nrows, ncols = image.shape\n",
    "    width, height = 1.0 / ncols, 1.0 / nrows\n",
    "\n",
    "    # Add cells\n",
    "    for (i,j), val in np.ndenumerate(image):\n",
    "        # Index either the first or second item of bkg_colors based on\n",
    "        # a checker board pattern\n",
    "        idx = [j % 2, (j + 1) % 2][i % 2]\n",
    "        color = 'white'\n",
    "\n",
    "        tb.add_cell(i, j, width, height, text=val,\n",
    "                    loc='center', facecolor=color)\n",
    "\n",
    "    # Row Labels...\n",
    "    for i, label in enumerate(range(len(image))):\n",
    "        tb.add_cell(i, -1, width, height, text=label+1, loc='right',\n",
    "                    edgecolor='none', facecolor='none')\n",
    "    # Column Labels...\n",
    "    for j, label in enumerate(range(len(image))):\n",
    "        tb.add_cell(-1, j, width, height/2, text=label+1, loc='center',\n",
    "                           edgecolor='none', facecolor='none')\n",
    "    ax.add_table(tb)\n",
    "\n",
    "def compute_state_value(in_place=False):\n",
    "    new_state_values = np.zeros((WORLD_SIZE, WORLD_SIZE))\n",
    "    state_values = new_state_values.copy()\n",
    "    iteration = 1\n",
    "    while True:\n",
    "        src = new_state_values if in_place else state_values\n",
    "        for i in range(WORLD_SIZE):\n",
    "            for j in range(WORLD_SIZE):\n",
    "                if is_terminal([i, j]):\n",
    "                    continue\n",
    "                value = 0\n",
    "                for action in ACTIONS:\n",
    "                    (next_i, next_j), reward = step([i, j], action)\n",
    "                    value += ACTION_PROB * (reward + src[next_i, next_j])\n",
    "                new_state_values[i, j] = value\n",
    "        if np.sum(np.abs(new_state_values - state_values)) < 1e-4:\n",
    "            state_values = new_state_values.copy()\n",
    "            break\n",
    "\n",
    "        state_values = new_state_values.copy()\n",
    "        iteration += 1\n",
    "\n",
    "    return state_values, iteration\n",
    "\n",
    "def figure_4_1():\n",
    "    values, sync_iteration = compute_state_value(in_place=False)\n",
    "    _, asycn_iteration = compute_state_value(in_place=True)\n",
    "    draw_image(np.round(values, decimals=2))\n",
    "    print('In-place: %d iterations' % (asycn_iteration))\n",
    "    print('Synchronous: %d iterations' % (sync_iteration))\n",
    "\n",
    "    plt.savefig('figure_4_1.png', dpi=600)\n",
    "    plt.show()\n",
    "    plt.close()\n",
    "\n",
    "if __name__ == '__main__':\n",
    "    figure_4_1()\n"
   ]
  },
  {
   "cell_type": "code",
   "execution_count": null,
   "metadata": {},
   "outputs": [],
   "source": []
  }
 ],
 "metadata": {
  "kernelspec": {
   "display_name": "Python 3",
   "language": "python",
   "name": "python3"
  },
  "language_info": {
   "codemirror_mode": {
    "name": "ipython",
    "version": 3
   },
   "file_extension": ".py",
   "mimetype": "text/x-python",
   "name": "python",
   "nbconvert_exporter": "python",
   "pygments_lexer": "ipython3",
   "version": "3.7.3"
  }
 },
 "nbformat": 4,
 "nbformat_minor": 2
}
