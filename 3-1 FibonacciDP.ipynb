{
 "cells": [
  {
   "cell_type": "markdown",
   "metadata": {},
   "source": [
    "## Fibonacci 数列例子\n",
    "\n",
    "学习计算斐波那契数的代码。通过比较执行时间，说明在动态规划中重用预先计算的部分解是如何提高算法效率的。"
   ]
  },
  {
   "cell_type": "markdown",
   "metadata": {},
   "source": [
    "### 1. 普通递归算法"
   ]
  },
  {
   "cell_type": "code",
   "execution_count": 1,
   "metadata": {},
   "outputs": [
    {
     "name": "stdout",
     "output_type": "stream",
     "text": [
      "[0, 1, 1, 2, 3, 5, 8, 13, 21, 34, 55, 89, 144, 233, 377, 610, 987, 1597, 2584, 4181, 6765, 10946, 17711, 28657, 46368, 75025, 121393, 196418, 317811, 514229]\n",
      "t=0.5682004550000013\n"
     ]
    }
   ],
   "source": [
    "#普通递归算法\n",
    "import time #导入时间模块用于计算程序运行时间\n",
    "\n",
    "start = time.perf_counter() #start用于记录程序开始运行的时间\n",
    "#Fibonacci函数\n",
    "def fib(n):\n",
    "    if n == 0:\n",
    "        return 0\n",
    "    elif n == 1:\n",
    "        return 1\n",
    "    else:\n",
    "        return fib(n-2) + fib(n-1)\n",
    "    \n",
    "#测试Fibonacci函数\n",
    "print([fib(n) for n in range(30)])  \n",
    "\n",
    "end = time.perf_counter() #end用于记录程序结束运行的时间\n",
    "print(f't={end-start}')"
   ]
  },
  {
   "cell_type": "markdown",
   "metadata": {},
   "source": [
    "### 2. 基于备忘录的递归算法"
   ]
  },
  {
   "cell_type": "code",
   "execution_count": 2,
   "metadata": {},
   "outputs": [
    {
     "name": "stdout",
     "output_type": "stream",
     "text": [
      "[0, 1, 1, 2, 3, 5, 8, 13, 21, 34, 55, 89, 144, 233, 377, 610, 987, 1597, 2584, 4181, 6765, 10946, 17711, 28657, 46368, 75025, 121393, 196418, 317811, 514229]\n",
      "t=0.0003695780000008142\n"
     ]
    }
   ],
   "source": [
    "#基于备忘录的递归算法\n",
    "import time #导入时间模块用于计算程序运行时间\n",
    "\n",
    "start = time.perf_counter() #start用于记录程序开始运行的时间\n",
    "past_fib = {}\n",
    "#Fibonacci函数\n",
    "def fib(n):\n",
    "    if n in past_fib:\n",
    "        return past_fib[n]\n",
    "    elif n == 0:\n",
    "        past_fib[n] = 0\n",
    "        return past_fib[n]\n",
    "    elif n == 1:\n",
    "        past_fib[n] = 1\n",
    "        return past_fib[n]\n",
    "    else:\n",
    "        past_fib[n] = fib(n-2) + fib(n-1)\n",
    "        return past_fib[n]\n",
    "\n",
    "#测试Fibonacci函数\n",
    "print([fib(n) for n in range(30)]) \n",
    "\n",
    "end = time.perf_counter() #end用于记录程序结束运行的时间\n",
    "print(f't={end-start}')"
   ]
  },
  {
   "cell_type": "markdown",
   "metadata": {},
   "source": [
    "### 3. 基于备忘录的自底向上迭代法"
   ]
  },
  {
   "cell_type": "code",
   "execution_count": 3,
   "metadata": {},
   "outputs": [
    {
     "name": "stdout",
     "output_type": "stream",
     "text": [
      "[0, 1, 1, 2, 3, 5, 8, 13, 21, 34, 55, 89, 144, 233, 377, 610, 987, 1597, 2584, 4181, 6765, 10946, 17711, 28657, 46368, 75025, 121393, 196418, 317811, 514229]\n",
      "t=0.0005615530000007141\n"
     ]
    }
   ],
   "source": [
    "#基于备忘录的自底向上迭代法\n",
    "import time #导入时间模块用于计算程序运行时间\n",
    "\n",
    "start = time.perf_counter() #start用于记录程序开始运行的时间\n",
    "past_fib = {}\n",
    "#Fibonacci函数\n",
    "def fib(n):\n",
    "    past_fib[0] = 0\n",
    "    past_fib[1] = 1\n",
    "    if n in past_fib:\n",
    "        return past_fib[n]\n",
    "    else:\n",
    "        for i in range(2,n+1,1):\n",
    "            past_fib[i] = past_fib[i-2] + past_fib[i-1]\n",
    "    return past_fib[n]\n",
    "    \n",
    "#测试Fibonacci函数\n",
    "print([fib(n) for n in range(30)]) \n",
    "\n",
    "end = time.perf_counter() #end用于记录程序结束运行的时间\n",
    "print(f't={end-start}')"
   ]
  },
  {
   "cell_type": "markdown",
   "metadata": {},
   "source": [
    "### 4. 无备忘录的自底向上迭代法"
   ]
  },
  {
   "cell_type": "code",
   "execution_count": 4,
   "metadata": {},
   "outputs": [
    {
     "name": "stdout",
     "output_type": "stream",
     "text": [
      "[0, 1, 1, 2, 3, 5, 8, 13, 21, 34, 55, 89, 144, 233, 377, 610, 987, 1597, 2584, 4181, 6765, 10946, 17711, 28657, 46368, 75025, 121393, 196418, 317811, 514229]\n",
      "t=0.0003019960000010258\n"
     ]
    }
   ],
   "source": [
    "#无备忘录的自底向上迭代法\n",
    "import time #导入时间模块用于计算程序运行时间\n",
    "\n",
    "start = time.perf_counter() #start用于记录程序开始运行的时间\n",
    "\n",
    "#Fibonacci函数\n",
    "def fib(n):\n",
    "    if n == 0:\n",
    "        return 0\n",
    "    elif n == 1:\n",
    "        return 1\n",
    "    else:\n",
    "        f_past = 0\n",
    "        f_now = 1\n",
    "        for i in range(2,n+1,1):\n",
    "            f_future = f_past + f_now\n",
    "            f_past = f_now\n",
    "            f_now = f_future\n",
    "    return f_future\n",
    "    \n",
    "#测试Fibonacci函数\n",
    "print([fib(n) for n in range(30)]) \n",
    "\n",
    "end = time.perf_counter() #end用于记录程序结束运行的时间\n",
    "print(f't={end-start}')"
   ]
  },
  {
   "cell_type": "markdown",
   "metadata": {},
   "source": [
    "## 小明找工作的例子"
   ]
  },
  {
   "cell_type": "code",
   "execution_count": 14,
   "metadata": {
    "scrolled": true
   },
   "outputs": [
    {
     "name": "stdout",
     "output_type": "stream",
     "text": [
      "maxV(8)=17\n",
      "maxVMemo={0: 0, 1: 5, 2: 5, 3: 7, 4: 10, 5: 10, 6: 13, 7: 13, 8: 17}\n",
      "t=0.0004280760000057171\n"
     ]
    }
   ],
   "source": [
    "# dynamic programming solution of example 4.2\n",
    "import time\n",
    "start = time.perf_counter() #start用于记录程序开始运行的时间\n",
    "v = {1:5, 2:1, 3:7, 4:5, 5:3, 6:8, 7:2, 8:4}\n",
    "pastJob = {1:0, 2:0, 3:0, 4:1, 5:3, 6:1, 7:4, 8:6}\n",
    "\n",
    "maxVMemo = {0:0, 1:5}\n",
    "def maxV(n):\n",
    "    if n in maxVMemo:\n",
    "        return maxVMemo[n]\n",
    "    else:\n",
    "        for i in range(2,n+1,1):\n",
    "            choose = v[i] + maxVMemo[pastJob[i]]\n",
    "            not_choose = maxVMemo[i-1]\n",
    "            maxVMemo[i] = max(choose, not_choose)\n",
    "        return maxVMemo[n]\n",
    "    \n",
    "print(f'maxV({len(pastJob)})={maxV(len(pastJob))}')\n",
    "print(f'maxVMemo={maxVMemo}')\n",
    "end = time.perf_counter() #end用于记录程序结束运行的时间\n",
    "print(f't={end-start}')"
   ]
  },
  {
   "cell_type": "code",
   "execution_count": 15,
   "metadata": {},
   "outputs": [
    {
     "name": "stdout",
     "output_type": "stream",
     "text": [
      "maxV(8)=17\n",
      "maxVMemo={0: 0, 1: 5, 2: 5, 3: 7, 4: 10, 5: 10, 6: 13, 7: 13, 8: 17}\n",
      "t=0.0006332359999987602\n"
     ]
    }
   ],
   "source": [
    "# recursion algorithm with memoization\n",
    "import time\n",
    "start = time.perf_counter() #start用于记录程序开始运行的时间\n",
    "v = {1:5, 2:1, 3:7, 4:5, 5:3, 6:8, 7:2, 8:4}\n",
    "pastJob = {1:0, 2:0, 3:0, 4:1, 5:3, 6:1, 7:4, 8:6}\n",
    "\n",
    "maxVMemo = {0:0, 1:5}\n",
    "def maxV(n):\n",
    "    if n in maxVMemo:\n",
    "        return maxVMemo[n]\n",
    "    else:\n",
    "        choose = v[n] + maxV(pastJob[n])\n",
    "        not_choose = maxV(n-1)\n",
    "        maxVMemo[n] = max(choose, not_choose)\n",
    "    return maxVMemo[n]\n",
    "    \n",
    "print(f'maxV({len(pastJob)})={maxV(len(pastJob))}')\n",
    "print(f'maxVMemo={maxVMemo}')\n",
    "end = time.perf_counter() #end用于记录程序结束运行的时间\n",
    "print(f't={end-start}')"
   ]
  },
  {
   "cell_type": "code",
   "execution_count": null,
   "metadata": {},
   "outputs": [],
   "source": []
  }
 ],
 "metadata": {
  "kernelspec": {
   "display_name": "Python 3",
   "language": "python",
   "name": "python3"
  },
  "language_info": {
   "codemirror_mode": {
    "name": "ipython",
    "version": 3
   },
   "file_extension": ".py",
   "mimetype": "text/x-python",
   "name": "python",
   "nbconvert_exporter": "python",
   "pygments_lexer": "ipython3",
   "version": "3.7.3"
  }
 },
 "nbformat": 4,
 "nbformat_minor": 2
}
