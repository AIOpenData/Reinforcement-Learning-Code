{
 "cells": [
  {
   "cell_type": "markdown",
   "metadata": {},
   "source": [
    "### 神经元的激活函数：阶跃函数"
   ]
  },
  {
   "cell_type": "code",
   "execution_count": 3,
   "metadata": {},
   "outputs": [],
   "source": [
    "%matplotlib inline\n",
    "import matplotlib.pyplot as plt\n",
    "import numpy as np"
   ]
  },
  {
   "cell_type": "code",
   "execution_count": 4,
   "metadata": {},
   "outputs": [],
   "source": [
    "def unit(x):\n",
    "    # sgn\n",
    "    if x>=0:\n",
    "        return 1\n",
    "    else:\n",
    "        return 0"
   ]
  },
  {
   "cell_type": "code",
   "execution_count": 5,
   "metadata": {},
   "outputs": [
    {
     "data": {
      "image/png": "[encoded data removed]",
      "text/plain": [
       "<Figure size 432x288 with 1 Axes>"
      ]
     },
     "metadata": {
      "needs_background": "light"
     },
     "output_type": "display_data"
    }
   ],
   "source": [
    "line_x = np.linspace(-5, 5, 100)\n",
    "line_y = []\n",
    "for i in line_x:\n",
    "    line_y.append(unit(i))\n",
    "plt.xlabel(\"z\")\n",
    "plt.ylabel(\"u(z)\")\n",
    "plt.xlim(-5,5)     \n",
    "plt.ylim(-0.1,1.1) \n",
    "plt.plot(line_x, line_y) \n",
    "plt.savefig(\"fig_chap8_unit.jpg\", dpi=600)\n",
    "plt.show()"
   ]
  },
  {
   "cell_type": "markdown",
   "metadata": {},
   "source": [
    "### 神经元的激活函数：Sigmoid函数"
   ]
  },
  {
   "cell_type": "code",
   "execution_count": 6,
   "metadata": {},
   "outputs": [],
   "source": [
    "def sigmoid(x):\n",
    "    # sigmoid function\n",
    "    return 1/(1 + np.exp(-x))"
   ]
  },
  {
   "cell_type": "code",
   "execution_count": 7,
   "metadata": {},
   "outputs": [
    {
     "data": {
      "image/png": "[encoded data removed]",
      "text/plain": [
       "<Figure size 432x288 with 1 Axes>"
      ]
     },
     "metadata": {
      "needs_background": "light"
     },
     "output_type": "display_data"
    }
   ],
   "source": [
    "line_x = np.linspace(-5, 5, 100)\n",
    "line_y = sigmoid(line_x)\n",
    "\n",
    "plt.xlabel(\"z\")\n",
    "plt.ylabel(\"sigmoid(z)\")\n",
    "plt.xlim(-5,5)     \n",
    "plt.ylim(0,1) \n",
    "plt.plot(line_x, line_y, label='Sigmoid') #, c='blue', label='Sigmoid'\n",
    "plt.scatter([0, ], [0.5, ], s=20,color='black') #color='r'\n",
    "plt.plot([0,0,],[0,0.5],'k--',color='black',linewidth=1)\n",
    "plt.plot([-5,0,],[0.5,0.5],'k--',color='black',linewidth=1)\n",
    "plt.annotate(r'(0,0.5)', xy=(0.2, 0.5), xycoords='data',fontsize=12)\n",
    "plt.legend()\n",
    "plt.savefig(\"fig_chap8_sigmoid.jpg\", dpi=600)\n",
    "plt.show()"
   ]
  },
  {
   "cell_type": "markdown",
   "metadata": {},
   "source": [
    "### 感知机（Perceptron）的激活函数：符号函数"
   ]
  },
  {
   "cell_type": "code",
   "execution_count": 8,
   "metadata": {},
   "outputs": [],
   "source": [
    "def sgn(x):\n",
    "    # sgn\n",
    "    if x>=0:\n",
    "        return 1\n",
    "    else:\n",
    "        return -1"
   ]
  },
  {
   "cell_type": "code",
   "execution_count": 9,
   "metadata": {},
   "outputs": [
    {
     "data": {
      "image/png": "[encoded data removed]",
      "text/plain": [
       "<Figure size 432x288 with 1 Axes>"
      ]
     },
     "metadata": {
      "needs_background": "light"
     },
     "output_type": "display_data"
    }
   ],
   "source": [
    "line_x = np.linspace(-5, 5, 100)\n",
    "line_y = []\n",
    "for i in line_x:\n",
    "    line_y.append(sgn(i))\n",
    "plt.xlabel(\"z\")\n",
    "plt.ylabel(\"sgn(z)\")\n",
    "plt.xlim(-5,5)     \n",
    "plt.ylim(-1.1,1.1) \n",
    "plt.plot(line_x, line_y, label='Sgn')\n",
    "plt.plot([-5,5,],[0,0],'k--',color='black',linewidth=1)\n",
    "plt.legend()\n",
    "plt.savefig(\"fig_chap8_sgn.jpg\", dpi=600)\n",
    "plt.show()"
   ]
  },
  {
   "cell_type": "markdown",
   "metadata": {},
   "source": [
    "### 卷积神经网络"
   ]
  },
  {
   "cell_type": "code",
   "execution_count": 10,
   "metadata": {},
   "outputs": [
    {
     "name": "stdout",
     "output_type": "stream",
     "text": [
      "[[ 482    3  -10    1    8 -477   -7]\n",
      " [ 721    7  -20   -1   14 -713   -8]\n",
      " [ 470    0  -20    0   16 -463   -3]\n",
      " [ 224   10   -4    4   12 -230  -16]\n",
      " [ -15    6    6    6    6    6  -15]\n",
      " [ -15    6    6    6    6    6  -15]\n",
      " [ 236   13    6    5    4 -244  -20]]\n"
     ]
    }
   ],
   "source": [
    "import scipy.signal\n",
    "\n",
    "image = [[245, 253, 254, 255, 255, 255, 7],\n",
    "         [255, 255, 247, 241, 245, 247, 14],\n",
    "         [249, 255, 255, 247, 255, 255, 21],\n",
    "         [22, 23, 24, 25, 26, 27, 28],\n",
    "         [29, 30, 31, 32, 33, 34, 35],\n",
    "         [36, 37, 38, 39, 40, 41, 42],\n",
    "         [43, 44, 45, 46, 47, 48, 49]]\n",
    "\n",
    "filter_kernel = [[1, 0, -1],\n",
    "                 [1, 0, -1],\n",
    "                 [1, 0, -1]]\n",
    "\n",
    "res = scipy.signal.convolve2d(image, filter_kernel, mode='same', boundary='wrap')\n",
    "print(res)"
   ]
  },
  {
   "cell_type": "code",
   "execution_count": null,
   "metadata": {},
   "outputs": [],
   "source": []
  }
 ],
 "metadata": {
  "kernelspec": {
   "display_name": "Python 3",
   "language": "python",
   "name": "python3"
  },
  "language_info": {
   "codemirror_mode": {
    "name": "ipython",
    "version": 3
   },
   "file_extension": ".py",
   "mimetype": "text/x-python",
   "name": "python",
   "nbconvert_exporter": "python",
   "pygments_lexer": "ipython3",
   "version": "3.7.3"
  }
 },
 "nbformat": 4,
 "nbformat_minor": 2
}
